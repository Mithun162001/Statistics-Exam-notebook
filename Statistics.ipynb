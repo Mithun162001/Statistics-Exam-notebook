{
 "metadata": {
  "language_info": {
   "codemirror_mode": {
    "name": "ipython",
    "version": 3
   },
   "file_extension": ".py",
   "mimetype": "text/x-python",
   "name": "python",
   "nbconvert_exporter": "python",
   "pygments_lexer": "ipython3",
   "version": "3.7.9-final"
  },
  "orig_nbformat": 2,
  "kernelspec": {
   "name": "python3",
   "display_name": "Python 3",
   "language": "python"
  }
 },
 "nbformat": 4,
 "nbformat_minor": 2,
 "cells": [
  {
   "cell_type": "code",
   "execution_count": 1,
   "metadata": {},
   "outputs": [],
   "source": [
    "import numpy as np \n",
    "import pandas as pd "
   ]
  },
  {
   "source": [
    "# MEAN"
   ],
   "cell_type": "markdown",
   "metadata": {}
  },
  {
   "cell_type": "code",
   "execution_count": 3,
   "metadata": {},
   "outputs": [
    {
     "output_type": "execute_result",
     "data": {
      "text/plain": [
       "369.0"
      ]
     },
     "metadata": {},
     "execution_count": 3
    }
   ],
   "source": [
    "array= np.array([100,150,200,250,360,490,500,600,671])\n",
    "array.mean()"
   ]
  },
  {
   "source": [
    "# MEDIAN"
   ],
   "cell_type": "markdown",
   "metadata": {}
  },
  {
   "cell_type": "code",
   "execution_count": 4,
   "metadata": {},
   "outputs": [
    {
     "output_type": "execute_result",
     "data": {
      "text/plain": [
       "25.0"
      ]
     },
     "metadata": {},
     "execution_count": 4
    }
   ],
   "source": [
    "array= np.array([25,18,27,10,8,30,42,20,53])\n",
    "np.median(array)"
   ]
  },
  {
   "source": [
    "# MODE"
   ],
   "cell_type": "markdown",
   "metadata": {}
  },
  {
   "cell_type": "code",
   "execution_count": 5,
   "metadata": {},
   "outputs": [
    {
     "output_type": "execute_result",
     "data": {
      "text/plain": [
       "0    1\n",
       "dtype: int32"
      ]
     },
     "metadata": {},
     "execution_count": 5
    }
   ],
   "source": [
    "array= np.array([1,1,2,3,4,5])\n",
    "data= pd.Series(array) \n",
    "data.mode()"
   ]
  },
  {
   "source": [
    "# STANDARD DEVIATION"
   ],
   "cell_type": "markdown",
   "metadata": {}
  },
  {
   "cell_type": "code",
   "execution_count": 6,
   "metadata": {},
   "outputs": [
    {
     "output_type": "execute_result",
     "data": {
      "text/plain": [
       "1.632993161855452"
      ]
     },
     "metadata": {},
     "execution_count": 6
    }
   ],
   "source": [
    "array= np.array([1,1,2,3,4,5])\n",
    "data= pd.Series(array)\n",
    "data.std()"
   ]
  },
  {
   "source": [
    "# QUARTILES"
   ],
   "cell_type": "markdown",
   "metadata": {}
  },
  {
   "cell_type": "code",
   "execution_count": 7,
   "metadata": {},
   "outputs": [
    {
     "output_type": "execute_result",
     "data": {
      "text/plain": [
       "count    10.000000\n",
       "mean     23.100000\n",
       "std      14.051097\n",
       "min       5.000000\n",
       "25%      11.250000\n",
       "50%      21.500000\n",
       "75%      33.750000\n",
       "max      45.000000\n",
       "dtype: float64"
      ]
     },
     "metadata": {},
     "execution_count": 7
    }
   ],
   "source": [
    "array= np.array([25,18,30, 8, 15, 5, 10, 35, 40, 45])\n",
    "data= pd.Series(array)\n",
    "data.describe()"
   ]
  },
  {
   "source": [
    "# Quartile deviation"
   ],
   "cell_type": "markdown",
   "metadata": {}
  },
  {
   "cell_type": "code",
   "execution_count": 8,
   "metadata": {},
   "outputs": [
    {
     "output_type": "stream",
     "name": "stdout",
     "text": [
      "(q3-q1)/2=  11.25\n"
     ]
    }
   ],
   "source": [
    "qd= (data.describe()[6]-data.describe()[4])/2\n",
    "print(\"(q3-q1)/2= \", qd)"
   ]
  },
  {
   "source": [
    "# Coefficient of quartile deviation"
   ],
   "cell_type": "markdown",
   "metadata": {}
  },
  {
   "cell_type": "code",
   "execution_count": 9,
   "metadata": {},
   "outputs": [
    {
     "output_type": "stream",
     "name": "stdout",
     "text": [
      "(q3-q1)/(q3+q1)=  0.5\n"
     ]
    }
   ],
   "source": [
    "coff= (data.describe()[6]-data.describe()[4])/(data.describe()[6]+data.describe()[4])\n",
    "print(\"(q3-q1)/(q3+q1)= \", coff)"
   ]
  },
  {
   "source": [
    "# MEAN DEVIATION"
   ],
   "cell_type": "markdown",
   "metadata": {}
  },
  {
   "cell_type": "code",
   "execution_count": 10,
   "metadata": {},
   "outputs": [
    {
     "output_type": "execute_result",
     "data": {
      "text/plain": [
       "174.44444444444446"
      ]
     },
     "metadata": {},
     "execution_count": 10
    }
   ],
   "source": [
    "array= np.array([100,150,200,250,360,490,500,600,671])\n",
    "data= pd.Series(array)\n",
    "mean= data.mean()\n",
    "md= data.mad()\n",
    "md"
   ]
  },
  {
   "source": [
    "# Co efficient of mean deviation"
   ],
   "cell_type": "markdown",
   "metadata": {}
  },
  {
   "cell_type": "code",
   "execution_count": 11,
   "metadata": {},
   "outputs": [
    {
     "output_type": "execute_result",
     "data": {
      "text/plain": [
       "0.47274917193616384"
      ]
     },
     "metadata": {},
     "execution_count": 11
    }
   ],
   "source": [
    "comd= md/mean\n",
    "comd"
   ]
  },
  {
   "source": [
    "# Newton Gregory forward & Backward Interploatoin Formula"
   ],
   "cell_type": "markdown",
   "metadata": {}
  },
  {
   "cell_type": "code",
   "execution_count": 29,
   "metadata": {},
   "outputs": [
    {
     "output_type": "stream",
     "name": "stdout",
     "text": [
      "X Values:\n",
      "[5.0, 7.0, 11.0, 13.0, 17.0]\n",
      "\n",
      "Y Values:\n",
      "[[150.0, 0, 0, 0, 0], [392.0, 0, 0, 0, 0], [1452.0, 0, 0, 0, 0], [2366.0, 0, 0, 0, 0], [5202.0, 0, 0, 0, 0]]\n",
      "\n",
      "5.0\t150.0\t242.0\t818.0\t-964.0\t3032.0\t\n",
      "7.0\t392.0\t1060.0\t-146.0\t2068.0\t\n",
      "11.0\t1452.0\t914.0\t1922.0\t\n",
      "13.0\t2366.0\t2836.0\t\n",
      "17.0\t5202.0\t\n",
      "\n",
      "Value at 9.0 is 1452.0\n"
     ]
    }
   ],
   "source": [
    "def u_cal(u, n): \n",
    "\ttemp = u; \n",
    "\tfor i in range(1, n): \n",
    "\t\ttemp = temp * (u - i)\n",
    "\treturn temp; \n",
    "\n",
    "def fact(n): \n",
    "\tf = 1 \n",
    "\tfor i in range(2, n + 1): \n",
    "\t\tf *= i\n",
    "\treturn f \n",
    "n = int(input(\"Enter n values\"))\n",
    "x= []\n",
    "for i in range(0,n):\n",
    "    ele= float(input(\"Enter x values\"))\n",
    "    x.append(ele)\n",
    "\n",
    "print(\"X Values:\")\n",
    "print(x)\n",
    "print()\n",
    "\n",
    "y = [[0 for i in range(n)] \n",
    "\t\tfor j in range(n)]\n",
    "for i in range(0,n):\n",
    "    y[i][0] = float(input(\"Enter y\")) \n",
    "print(\"Y Values:\")\n",
    "print(y)\n",
    "print()\n",
    "\n",
    "for i in range(1, n): \n",
    "\tfor j in range(n - i): \n",
    "\t\ty[j][i] = y[j + 1][i - 1] - y[j][i - 1]\n",
    "\n",
    "for i in range(n): \n",
    "\tprint(x[i], end = \"\\t\") \n",
    "\tfor j in range(n - i): \n",
    "\t\tprint(y[i][j], end = \"\\t\") \n",
    "\tprint(\"\") \n",
    "\n",
    "value = float(input(\"enter the value you need to find at:\"))\n",
    "sum = y[0][0] \n",
    "u = (value - x[0]) / (x[1] - x[0]) \n",
    "for i in range(1,n): \n",
    "\tsum = sum + (u_cal(u, i) * y[0][i]) / fact(i)\n",
    "\n",
    "print(\"\\nValue at\", value, \n",
    "\t\"is\", round(sum, 6))\n"
   ]
  },
  {
   "source": [
    "# Lagranges' Interploation Formula for unequal intervals"
   ],
   "cell_type": "markdown",
   "metadata": {}
  },
  {
   "cell_type": "code",
   "execution_count": 104,
   "metadata": {},
   "outputs": [
    {
     "output_type": "stream",
     "name": "stdout",
     "text": [
      "Enter data for x and y: \n",
      "[0. 2. 3. 6.]\n",
      "[ -4.   2.  14. 158.]\n",
      "Interpolated value at 4.000 is 40.000.\n"
     ]
    }
   ],
   "source": [
    "n = int(input('Enter number of data points: '))\n",
    "x = np.zeros((n))\n",
    "y = np.zeros((n))\n",
    "print('Enter data for x and y: ')\n",
    "for i in range(n):\n",
    "    x[i] = float(input( 'x['+str(i)+']='))\n",
    "print(x)\n",
    "for i in range(n):\n",
    "    y[i] = float(input( 'y['+str(i)+']='))\n",
    "print(y)\n",
    "\n",
    "xp = float(input('Enter interpolation point: '))\n",
    "yp = 0\n",
    "\n",
    "for i in range(n): \n",
    "    p = 1 \n",
    "    for j in range(n):\n",
    "        if i != j:\n",
    "            p = p * (xp - x[j])/(x[i] - x[j])    \n",
    "    yp = yp + p * y[i]    \n",
    "\n",
    "print('Interpolated value at %.3f is %.3f.' % (xp, yp))"
   ]
  },
  {
   "source": [
    "# Polynominal equations based on interpolations"
   ],
   "cell_type": "markdown",
   "metadata": {}
  },
  {
   "cell_type": "code",
   "execution_count": 37,
   "metadata": {},
   "outputs": [],
   "source": [
    "from sympy import simplify, symbols, expand, factor, sin, cos #..., lambdify, solve_poly_system"
   ]
  },
  {
   "cell_type": "code",
   "execution_count": 90,
   "metadata": {},
   "outputs": [
    {
     "output_type": "stream",
     "name": "stdout",
     "text": [
      "Overwriting LagrangePolynomial.py\n"
     ]
    }
   ],
   "source": [
    "%%writefile LagrangePolynomial.py\n",
    "\"\"\"\n",
    "From: https://gist.github.com/folkertdev/084c53887c49a6248839\n",
    "A sympy-based Lagrange polynomial constructor. \n",
    "\n",
    "Implementation of Lagrangian interpolating polynomial.\n",
    "See:\n",
    "\n",
    "   def lagrangePolynomial(xs, ys):\n",
    "\n",
    "Given two 1-D arrays `xs` and `ys,` returns the Lagrange interpolating\n",
    "polynomial through the points ``(xs, ys)``\n",
    "\n",
    "\n",
    "Given a set 1-D arrays of inputs and outputs, the lagrangePolynomial function \n",
    "will construct an expression that for every input gives the corresponding output. \n",
    "For intermediate values, the polynomial interpolates (giving varying results \n",
    "based  on the shape of your input). \n",
    "\n",
    "The Lagrangian polynomials can be obtained explicitly with (see below):\n",
    "   \n",
    "   def polyL(xs,j):\n",
    "   \n",
    "as sympy polynomial, and \n",
    "\n",
    "    def L(xs,j):\n",
    "\n",
    "as Python functions.\n",
    "\n",
    "\n",
    "This is useful when the result needs to be used outside of Python, because the \n",
    "expression can easily be copied. To convert the expression to a python function \n",
    "object, use sympy.lambdify.\n",
    "\"\"\"\n",
    "from sympy import symbols, expand, lambdify, solve_poly_system\n",
    "#Python library for arithmetic with arbitrary precision\n",
    "from mpmath import tan, e\n",
    "\n",
    "import math\n",
    "\n",
    "from operator import mul\n",
    "from functools import reduce, lru_cache\n",
    "from itertools import chain\n",
    "\n",
    "# sympy symbols\n",
    "x = symbols('x')\n",
    "\n",
    "# convenience functions\n",
    "product = lambda *args: reduce(mul, *(list(args) + [1]))\n",
    "\n",
    "# test data\n",
    "labels = [(-3/2), (-3/4), 0, 3/4, 3/2]\n",
    "points = [math.tan(v) for v in labels]\n",
    "\n",
    "# this product may be reusable (when creating many functions on the same domain)\n",
    "# therefore, cache the result\n",
    "@lru_cache(16)\n",
    "def l(labels, j):\n",
    "    def gen(labels, j):\n",
    "        k = len(labels)\n",
    "        current = labels[j]\n",
    "        for m in labels:\n",
    "            if m == current:\n",
    "                continue\n",
    "            yield (x - m) / (current - m)\n",
    "    return expand(product(gen(labels, j)))\n",
    "\n",
    "def polyL(xs,j):\n",
    "    '''\n",
    "    Lagrange polynomials as sympy polynomial\n",
    "    xs: the n+1 nodes of the intepolation polynomial in the Lagrange Form\n",
    "    j: Is the j-th Lagrange polinomial for the specific xs.\n",
    "    '''\n",
    "    xs=tuple(xs)\n",
    "    return l(xs,j)\n",
    "\n",
    "def L(xs,j):\n",
    "    '''\n",
    "    Lagrange polynomials as python function\n",
    "    xs: the n+1 nodes of the intepolation polynomial in the Lagrange Form\n",
    "    j: Is the j-th Lagrange polinomial for the specific xs.\n",
    "    '''\n",
    "    return lambdify(x, polyL(xs,j) )\n",
    "\n",
    "def lagrangePolynomial(xs, ys):\n",
    "    '''\n",
    "    Given two 1-D arrays `x` and `w,` returns the Lagrange interpolating\n",
    "    polynomial through the points ``(x, w)``.\n",
    "\n",
    "    '''\n",
    "    # based on https://en.wikipedia.org/wiki/Lagrange_polynomial#Example_1\n",
    "    k = len(xs)\n",
    "    total = 0\n",
    "\n",
    "    # use tuple, needs to be hashable to cache\n",
    "    xs = tuple(xs)\n",
    "\n",
    "    for j, current in enumerate(ys):\n",
    "        t = current * l(xs, j)\n",
    "        total += t\n",
    "\n",
    "    return total\n",
    "\n",
    "\n",
    "\n",
    "\n",
    "def x_intersections(function, *args):\n",
    "    \"Finds all x for which function(x) = 0\"\n",
    "    # solve_poly_system seems more efficient than solve for larger expressions\n",
    "    return [var for var in chain.from_iterable(solve_poly_system([function], *args)) if (var.is_real)]\n",
    "\n",
    "def x_scale(function, factor):\n",
    "    \"Scale function on the x-axis\"\n",
    "    return functions.subs(x, x / factor)\n",
    "\n",
    "if __name__ == '__main__':\n",
    "    func = lagrangePolynomial(labels, points)\n",
    "\n",
    "    pyfunc = lambdify(x, func)\n",
    "\n",
    "    for a, b in zip(labels, points):\n",
    "        assert(pyfunc(a) - b < 1e-6)"
   ]
  },
  {
   "cell_type": "code",
   "execution_count": 91,
   "metadata": {},
   "outputs": [
    {
     "output_type": "stream",
     "name": "stdout",
     "text": [
      "Populating the interactive namespace from numpy and matplotlib\n"
     ]
    }
   ],
   "source": [
    "%pylab inline\n",
    "import pandas as pd\n",
    "import numpy as np\n",
    "import LagrangePolynomial as LP\n",
    "from scipy import interpolate"
   ]
  },
  {
   "cell_type": "code",
   "execution_count": 101,
   "metadata": {},
   "outputs": [
    {
     "output_type": "stream",
     "name": "stdout",
     "text": [
      "X values:\n[1. 2. 3. 4. 5.]\n\nY values:\n[ 1. -1.  1. -1.  1.]\n\n"
     ]
    }
   ],
   "source": [
    "n=int(input(\"Enter the n values\"))\n",
    "x = np.zeros((n))\n",
    "y = np.zeros((n))\n",
    "for i in range(0,n):\n",
    "    x[i]=float(input(\"Enter the x values\"))\n",
    "for i in range(0,n):\n",
    "    y[i]=float(input(\"Enter the y values\"))\n",
    "print(\"X values:\")\n",
    "print(x)\n",
    "print()\n",
    "\n",
    "print(\"Y values:\")\n",
    "print(y)\n",
    "print()"
   ]
  },
  {
   "cell_type": "code",
   "execution_count": 102,
   "metadata": {},
   "outputs": [
    {
     "output_type": "execute_result",
     "data": {
      "text/plain": [
       "     X    Y\n",
       "0  1.0  1.0\n",
       "1  2.0 -1.0\n",
       "2  3.0  1.0\n",
       "3  4.0 -1.0\n",
       "4  5.0  1.0"
      ],
      "text/html": "<div>\n<style scoped>\n    .dataframe tbody tr th:only-of-type {\n        vertical-align: middle;\n    }\n\n    .dataframe tbody tr th {\n        vertical-align: top;\n    }\n\n    .dataframe thead th {\n        text-align: right;\n    }\n</style>\n<table border=\"1\" class=\"dataframe\">\n  <thead>\n    <tr style=\"text-align: right;\">\n      <th></th>\n      <th>X</th>\n      <th>Y</th>\n    </tr>\n  </thead>\n  <tbody>\n    <tr>\n      <th>0</th>\n      <td>1.0</td>\n      <td>1.0</td>\n    </tr>\n    <tr>\n      <th>1</th>\n      <td>2.0</td>\n      <td>-1.0</td>\n    </tr>\n    <tr>\n      <th>2</th>\n      <td>3.0</td>\n      <td>1.0</td>\n    </tr>\n    <tr>\n      <th>3</th>\n      <td>4.0</td>\n      <td>-1.0</td>\n    </tr>\n    <tr>\n      <th>4</th>\n      <td>5.0</td>\n      <td>1.0</td>\n    </tr>\n  </tbody>\n</table>\n</div>"
     },
     "metadata": {},
     "execution_count": 102
    }
   ],
   "source": [
    "df=pd.DataFrame({ 'X':x,'Y':y})\n",
    "df"
   ]
  },
  {
   "cell_type": "code",
   "execution_count": 84,
   "metadata": {},
   "outputs": [
    {
     "output_type": "stream",
     "text": [
      "\u001b[1;31mSignature:\u001b[0m \u001b[0minterpolate\u001b[0m\u001b[1;33m.\u001b[0m\u001b[0mlagrange\u001b[0m\u001b[1;33m(\u001b[0m\u001b[0mx\u001b[0m\u001b[1;33m,\u001b[0m \u001b[0mw\u001b[0m\u001b[1;33m)\u001b[0m\u001b[1;33m\u001b[0m\u001b[1;33m\u001b[0m\u001b[0m\n",
      "\u001b[1;31mDocstring:\u001b[0m\n",
      "Return a Lagrange interpolating polynomial.\n",
      "\n",
      "Given two 1-D arrays `x` and `w,` returns the Lagrange interpolating\n",
      "polynomial through the points ``(x, w)``.\n",
      "\n",
      "Warning: This implementation is numerically unstable. Do not expect to\n",
      "be able to use more than about 20 points even if they are chosen optimally.\n",
      "\n",
      "Parameters\n",
      "----------\n",
      "x : array_like\n",
      "    `x` represents the x-coordinates of a set of datapoints.\n",
      "w : array_like\n",
      "    `w` represents the y-coordinates of a set of datapoints, i.e., f(`x`).\n",
      "\n",
      "Returns\n",
      "-------\n",
      "lagrange : `numpy.poly1d` instance\n",
      "    The Lagrange interpolating polynomial.\n",
      "\n",
      "Examples\n",
      "--------\n",
      "Interpolate :math:`f(x) = x^3` by 3 points.\n",
      "\n",
      ">>> from scipy.interpolate import lagrange\n",
      ">>> x = np.array([0, 1, 2])\n",
      ">>> y = x**3\n",
      ">>> poly = lagrange(x, y)\n",
      "\n",
      "Since there are only 3 points, Lagrange polynomial has degree 2. Explicitly,\n",
      "it is given by\n",
      "\n",
      ".. math::\n",
      "\n",
      "    \\begin{aligned}\n",
      "        L(x) &= 1\\times \\frac{x (x - 2)}{-1} + 8\\times \\frac{x (x-1)}{2} \\\\\n",
      "             &= x (-2 + 3x)\n",
      "    \\end{aligned}\n",
      "\n",
      ">>> from numpy.polynomial.polynomial import Polynomial\n",
      ">>> Polynomial(poly).coef\n",
      "array([ 3., -2.,  0.])\n",
      "\u001b[1;31mFile:\u001b[0m      c:\\users\\lenovo\\anaconda3\\envs\\myenv\\lib\\site-packages\\scipy\\interpolate\\interpolate.py\n",
      "\u001b[1;31mType:\u001b[0m      function\n"
     ],
     "name": "stdout"
    }
   ],
   "source": [
    "interpolate.lagrange?"
   ]
  },
  {
   "cell_type": "code",
   "execution_count": 103,
   "metadata": {},
   "outputs": [
    {
     "output_type": "stream",
     "name": "stdout",
     "text": [
      "        4     3         2\n0.6667 x - 8 x + 33.33 x - 56 x + 31\n"
     ]
    }
   ],
   "source": [
    "P=interpolate.lagrange(df.X,df.Y)\n",
    "print(P)"
   ]
  },
  {
   "source": [
    "# Inverse Interpolation"
   ],
   "cell_type": "markdown",
   "metadata": {}
  },
  {
   "cell_type": "code",
   "execution_count": 117,
   "metadata": {},
   "outputs": [
    {
     "output_type": "stream",
     "name": "stdout",
     "text": [
      "Enter data for x and y: \n",
      "[ 5.  6.  9. 11.]\n",
      "[12. 13. 14. 16.]\n",
      "Interpolated value at 15.000 is 11.500.\n"
     ]
    }
   ],
   "source": [
    "n = int(input('Enter number of data points: '))\n",
    "x = np.zeros((n))\n",
    "y = np.zeros((n))\n",
    "print('Enter data for x and y: ')\n",
    "for i in range(n):\n",
    "    x[i] = float(input( 'x['+str(i)+']='))\n",
    "print(x)\n",
    "for i in range(n):\n",
    "    y[i] = float(input( 'y['+str(i)+']='))\n",
    "print(y)\n",
    "\n",
    "yp = float(input('Enter interpolation point: '))\n",
    "xp = 0\n",
    "\n",
    "for i in range(n): \n",
    "    p = 1 \n",
    "    for j in range(n):\n",
    "        if i != j:\n",
    "            p = p * (yp - y[j])/(y[i] - y[j])    \n",
    "    xp = xp + p * x[i]    \n",
    "\n",
    "print('Interpolated value at %.3f is %.3f.' % (yp,xp))"
   ]
  }
 ]
}